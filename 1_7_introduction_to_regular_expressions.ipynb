{
  "cells": [
    {
      "cell_type": "markdown",
      "metadata": {
        "id": "view-in-github",
        "colab_type": "text"
      },
      "source": [
        "<a href=\"https://colab.research.google.com/github/emmar2000/module1_lectures/blob/main/1_7_introduction_to_regular_expressions.ipynb\" target=\"_parent\"><img src=\"https://colab.research.google.com/assets/colab-badge.svg\" alt=\"Open In Colab\"/></a>"
      ]
    },
    {
      "cell_type": "markdown",
      "metadata": {
        "id": "jgVYmKRR11j-"
      },
      "source": [
        "## Regular Expressions\n",
        "\n",
        "<img src=\"https://imgs.xkcd.com/comics/regular_expressions.png \" width=400>"
      ]
    },
    {
      "cell_type": "markdown",
      "metadata": {
        "id": "3IkUsT3a11kD"
      },
      "source": [
        "## RegEx Golf\n",
        "\n",
        "<img src=\"https://imgs.xkcd.com/comics/regex_golf.png\" width=600>"
      ]
    },
    {
      "cell_type": "markdown",
      "metadata": {
        "id": "7WMKxkuS11kD"
      },
      "source": [
        "## Perl Problems\n",
        "\n",
        "    Some people, when confronted with a problem, think \"I know, I'll use regular expressions.\" Now they have two problems. - Jamie Zawinski \n",
        "<img src=\"https://imgs.xkcd.com/comics/perl_problems.png\" width=600>"
      ]
    },
    {
      "cell_type": "markdown",
      "metadata": {
        "id": "4w-L1cyO11kE"
      },
      "source": [
        "## <font color=\"red\"> Exercise 1 </font>\n",
        "\n",
        "**Question:** What do all of these strings have in common?\n",
        "\n",
        "* `\"ab\"`\n",
        "* `\"abab\"`\n",
        "* `\"ababcde\"`\n",
        "* `\"abcde\"`"
      ]
    },
    {
      "cell_type": "markdown",
      "metadata": {
        "id": "vqjeLuCh11kF"
      },
      "source": [
        "> starts with ab, something like\n",
        "> (ab)\\[1,2](cde)\\[0,1]"
      ]
    },
    {
      "cell_type": "markdown",
      "metadata": {
        "id": "1AJcMqB_11kF"
      },
      "source": [
        "## <font color=\"red\"> Exercise 2 </font>\n",
        "\n",
        "**Task:** Predict the next three elements of the sequence.\n",
        "\n",
        "* `\"0\"`\n",
        "* `\"1ab\"`\n",
        "* `\"2abab\"`\n",
        "* `\"3ababab\"`\n"
      ]
    },
    {
      "cell_type": "markdown",
      "metadata": {
        "id": "21MlTvLc11kG"
      },
      "source": [
        "> "
      ]
    },
    {
      "cell_type": "code",
      "source": [
        "for i in range(4,7):\n",
        "  print(f\"{i}{'ab'*i}\")"
      ],
      "metadata": {
        "colab": {
          "base_uri": "https://localhost:8080/"
        },
        "id": "5Gv0YxHq4ooC",
        "outputId": "4ca3c3e1-a550-4fc3-d444-abcd486790ba"
      },
      "execution_count": 1,
      "outputs": [
        {
          "output_type": "stream",
          "name": "stdout",
          "text": [
            "4abababab\n",
            "5ababababab\n",
            "6abababababab\n"
          ]
        }
      ]
    },
    {
      "cell_type": "markdown",
      "metadata": {
        "id": "YzHe60JZ11kG"
      },
      "source": [
        "## What is a regular expression\n",
        "\n",
        "* Language for matching regular patterns\n",
        "    * `\"ab\"`\n",
        "    * `\"abab\"`\n",
        "    * `\"ababcde\"`\n",
        "    * `\"abcde\"`\n",
        "* Can't match other, context sensitive, patterns\n",
        "    * `\"0\"`\n",
        "    * `\"1ab\"`\n",
        "    * `\"2abab\"`\n",
        "    * `\"3ababab\"`"
      ]
    },
    {
      "cell_type": "markdown",
      "metadata": {
        "id": "qh5Rdtw211kH"
      },
      "source": [
        "## <font color=\"red\"> Exercise 3 </font>\n",
        "\n",
        "**Tasks:** \n",
        "\n",
        "1. Go to [RegexOne](https://regexone.com/)\n",
        "2. Read the first section\n",
        "3. Define a pattern that matches the first three strings."
      ]
    },
    {
      "cell_type": "code",
      "execution_count": 2,
      "metadata": {
        "id": "c-cVpwiB11kI"
      },
      "outputs": [],
      "source": [
        "pattern1 = \"^abc\""
      ]
    },
    {
      "cell_type": "markdown",
      "metadata": {
        "id": "I3PCsBbO11kJ"
      },
      "source": [
        "## Regular Expressions Workflow in Python\n",
        "\n",
        "* `import re`\n",
        "* Compile a pattern `regex = re.compile(pattern)`\n",
        "    * Use `r\"pattern\"` to avoid escaping symbols\n",
        "* `m = regex.match(some_string)`"
      ]
    },
    {
      "cell_type": "code",
      "execution_count": 3,
      "metadata": {
        "id": "cK7JJ5BT11kJ"
      },
      "outputs": [],
      "source": [
        "import re"
      ]
    },
    {
      "cell_type": "code",
      "execution_count": 4,
      "metadata": {
        "colab": {
          "base_uri": "https://localhost:8080/"
        },
        "id": "y9b8Cwr011kK",
        "outputId": "05cd4e1b-e9b2-415d-b68f-d07dfe532b65"
      },
      "outputs": [
        {
          "output_type": "execute_result",
          "data": {
            "text/plain": [
              "<re.Match object; span=(0, 2), match='ab'>"
            ]
          },
          "metadata": {},
          "execution_count": 4
        }
      ],
      "source": [
        "pattern = r\"ab\" # r is for raw\n",
        "regex = re.compile(pattern)\n",
        "m1 = regex.match('abc')\n",
        "m1"
      ]
    },
    {
      "cell_type": "markdown",
      "metadata": {
        "id": "L_Br2Etr11kK"
      },
      "source": [
        "## `match` returns `None` when there is no match"
      ]
    },
    {
      "cell_type": "code",
      "execution_count": 5,
      "metadata": {
        "id": "Lk8KHFgg11kL"
      },
      "outputs": [],
      "source": [
        "m2 = regex.match('acb')\n",
        "m2"
      ]
    },
    {
      "cell_type": "code",
      "execution_count": 6,
      "metadata": {
        "colab": {
          "base_uri": "https://localhost:8080/"
        },
        "id": "otFsf-PU11kL",
        "outputId": "24ff3889-7875-4b79-801f-7cbea08f501e"
      },
      "outputs": [
        {
          "output_type": "execute_result",
          "data": {
            "text/plain": [
              "True"
            ]
          },
          "metadata": {},
          "execution_count": 6
        }
      ],
      "source": [
        "m2 is None"
      ]
    },
    {
      "cell_type": "code",
      "execution_count": 7,
      "metadata": {
        "colab": {
          "base_uri": "https://localhost:8080/"
        },
        "id": "s8YX6gN911kL",
        "outputId": "28a691d8-e792-474c-d08a-f2c5262be3de"
      },
      "outputs": [
        {
          "output_type": "execute_result",
          "data": {
            "text/plain": [
              "True"
            ]
          },
          "metadata": {},
          "execution_count": 7
        }
      ],
      "source": [
        "not m2 "
      ]
    },
    {
      "cell_type": "code",
      "source": [
        "if m1:=regex.match(\"abc\"):\n",
        "  print(\"matched: \" + m1)\n",
        "else:\n",
        "  print(\"no match\")"
      ],
      "metadata": {
        "colab": {
          "base_uri": "https://localhost:8080/",
          "height": 135
        },
        "id": "uDEsQVCU6NKv",
        "outputId": "b92d9ab7-b438-4fc8-e8ef-8f21bd600b35"
      },
      "execution_count": 8,
      "outputs": [
        {
          "output_type": "error",
          "ename": "SyntaxError",
          "evalue": "ignored",
          "traceback": [
            "\u001b[0;36m  File \u001b[0;32m\"<ipython-input-8-f99c3beb20b0>\"\u001b[0;36m, line \u001b[0;32m1\u001b[0m\n\u001b[0;31m    if m1:=regex.match(\"abc\"):\u001b[0m\n\u001b[0m          ^\u001b[0m\n\u001b[0;31mSyntaxError\u001b[0m\u001b[0;31m:\u001b[0m invalid syntax\n"
          ]
        }
      ]
    },
    {
      "cell_type": "code",
      "source": [
        "import sys\n",
        "sys.version"
      ],
      "metadata": {
        "colab": {
          "base_uri": "https://localhost:8080/",
          "height": 36
        },
        "id": "Fqo6e7P463uQ",
        "outputId": "3a0462da-9534-42ce-93ba-d0318932c951"
      },
      "execution_count": 9,
      "outputs": [
        {
          "output_type": "execute_result",
          "data": {
            "text/plain": [
              "'3.7.13 (default, Apr 24 2022, 01:04:09) \\n[GCC 7.5.0]'"
            ],
            "application/vnd.google.colaboratory.intrinsic+json": {
              "type": "string"
            }
          },
          "metadata": {},
          "execution_count": 9
        }
      ]
    },
    {
      "cell_type": "markdown",
      "metadata": {
        "id": "Mebpzio811kM"
      },
      "source": [
        "## The result of a match can be used in Boolean expressions"
      ]
    },
    {
      "cell_type": "code",
      "execution_count": 10,
      "metadata": {
        "colab": {
          "base_uri": "https://localhost:8080/",
          "height": 36
        },
        "id": "swya011h11kM",
        "outputId": "82624097-0e21-4912-be85-8cdf564414e1"
      },
      "outputs": [
        {
          "output_type": "execute_result",
          "data": {
            "text/plain": [
              "'Yes'"
            ],
            "application/vnd.google.colaboratory.intrinsic+json": {
              "type": "string"
            }
          },
          "metadata": {},
          "execution_count": 10
        }
      ],
      "source": [
        "\"Yes\" if m1 else \"No\""
      ]
    },
    {
      "cell_type": "code",
      "execution_count": 11,
      "metadata": {
        "colab": {
          "base_uri": "https://localhost:8080/",
          "height": 36
        },
        "id": "TgATKd8E11kM",
        "outputId": "b2f4074e-925f-49d3-c84c-dc361d149940"
      },
      "outputs": [
        {
          "output_type": "execute_result",
          "data": {
            "text/plain": [
              "'No'"
            ],
            "application/vnd.google.colaboratory.intrinsic+json": {
              "type": "string"
            }
          },
          "metadata": {},
          "execution_count": 11
        }
      ],
      "source": [
        "\"Yes\" if m2 else \"No\""
      ]
    },
    {
      "cell_type": "markdown",
      "metadata": {
        "id": "DZWm2Pkd11kM"
      },
      "source": [
        "## <font color=\"red\"> Exercise 4 </font>\n",
        "\n",
        "**Tasks:** Make sure your pattern from <font color=\"red\"> Exercise 3</font> passes the following `assert` statements."
      ]
    },
    {
      "cell_type": "code",
      "execution_count": 12,
      "metadata": {
        "id": "pfJm0kCW11kN"
      },
      "outputs": [],
      "source": [
        "# string.startswith()\n",
        "pattern1 = \"^abc\"\n",
        "my_regex = re.compile(pattern1)\n",
        "assert my_regex.match('abcdefg')\n",
        "assert my_regex.match('abcde')\n",
        "assert my_regex.match('abc')\n",
        "assert not my_regex.match('acb')"
      ]
    },
    {
      "cell_type": "markdown",
      "metadata": {
        "id": "zVI3u63N11kN"
      },
      "source": [
        "## Whitespace and escaped characters\n",
        "\n",
        "* Whitespace includes spaces, tabs, and newlines\n",
        "* Python uses escape characters: `\"\\t\"`, `\"\\n\"`"
      ]
    },
    {
      "cell_type": "markdown",
      "metadata": {
        "id": "Vqhayksn11kN"
      },
      "source": [
        "#### Use `\"\\n\"` for newlines"
      ]
    },
    {
      "cell_type": "code",
      "execution_count": 13,
      "metadata": {
        "colab": {
          "base_uri": "https://localhost:8080/",
          "height": 36
        },
        "id": "WRxDRuLr11kN",
        "outputId": "9a1d5a28-1607-4ceb-ad85-0a80b5e517b3"
      },
      "outputs": [
        {
          "output_type": "execute_result",
          "data": {
            "text/plain": [
              "'\\n'"
            ],
            "application/vnd.google.colaboratory.intrinsic+json": {
              "type": "string"
            }
          },
          "metadata": {},
          "execution_count": 13
        }
      ],
      "source": [
        "\"\\n\""
      ]
    },
    {
      "cell_type": "code",
      "execution_count": 14,
      "metadata": {
        "colab": {
          "base_uri": "https://localhost:8080/"
        },
        "id": "-3x5UmD511kO",
        "outputId": "0376b2fe-940c-4394-839c-7b167dba8c1f"
      },
      "outputs": [
        {
          "output_type": "stream",
          "name": "stdout",
          "text": [
            "\n",
            "\n"
          ]
        }
      ],
      "source": [
        "print('\\n')"
      ]
    },
    {
      "cell_type": "code",
      "execution_count": 15,
      "metadata": {
        "colab": {
          "base_uri": "https://localhost:8080/"
        },
        "id": "i-T2FF1u11kO",
        "outputId": "d943a5c9-d7d9-498b-d8d8-5f2dc8052cb3"
      },
      "outputs": [
        {
          "output_type": "stream",
          "name": "stdout",
          "text": [
            "a\n",
            "b\n"
          ]
        }
      ],
      "source": [
        "print('a\\nb')"
      ]
    },
    {
      "cell_type": "markdown",
      "metadata": {
        "id": "rQManuG711kO"
      },
      "source": [
        "#### Use `\"\\t\"` for tab"
      ]
    },
    {
      "cell_type": "code",
      "execution_count": 16,
      "metadata": {
        "colab": {
          "base_uri": "https://localhost:8080/",
          "height": 36
        },
        "id": "BG-M2yp011kO",
        "outputId": "eb3332e3-33a7-4aac-c8ab-abb0475e3860"
      },
      "outputs": [
        {
          "output_type": "execute_result",
          "data": {
            "text/plain": [
              "'\\t'"
            ],
            "application/vnd.google.colaboratory.intrinsic+json": {
              "type": "string"
            }
          },
          "metadata": {},
          "execution_count": 16
        }
      ],
      "source": [
        "\"\\t\""
      ]
    },
    {
      "cell_type": "code",
      "execution_count": 17,
      "metadata": {
        "colab": {
          "base_uri": "https://localhost:8080/"
        },
        "id": "1_04PkB411kO",
        "outputId": "abb32bb1-5447-4cd7-f5be-e9ca65b5b9d4"
      },
      "outputs": [
        {
          "output_type": "stream",
          "name": "stdout",
          "text": [
            "\t\n"
          ]
        }
      ],
      "source": [
        "print('\\t')"
      ]
    },
    {
      "cell_type": "code",
      "execution_count": 18,
      "metadata": {
        "colab": {
          "base_uri": "https://localhost:8080/"
        },
        "id": "SLsPae4411kP",
        "outputId": "1b28bd6a-9293-4f65-9552-944f4f4b11f6"
      },
      "outputs": [
        {
          "output_type": "stream",
          "name": "stdout",
          "text": [
            "a\tb\n"
          ]
        }
      ],
      "source": [
        "print('a\\tb')"
      ]
    },
    {
      "cell_type": "markdown",
      "metadata": {
        "id": "z1p7FRYx11kP"
      },
      "source": [
        "## Why use `r\"raw strings\"` in `regex`\n",
        "\n",
        "* Regular strings $\\rightarrow$ `\\` is for special characters: `'\\n'`, `'\\t'`\n",
        "* In regular expressions, `\\` is for\n",
        "    * Escaping: i.e. `\\.` vs. `.`\n",
        "* Without raw string, we would need \n",
        "    * `'\\\\n'`  to match a new line\n",
        "    * `'\\\\t'` to match a tab"
      ]
    },
    {
      "cell_type": "code",
      "execution_count": 19,
      "metadata": {
        "colab": {
          "base_uri": "https://localhost:8080/",
          "height": 36
        },
        "id": "LUpIF1CA11kP",
        "outputId": "6f2ced11-56b1-4529-edd2-07012aac057e"
      },
      "outputs": [
        {
          "output_type": "execute_result",
          "data": {
            "text/plain": [
              "'\\\\n'"
            ],
            "application/vnd.google.colaboratory.intrinsic+json": {
              "type": "string"
            }
          },
          "metadata": {},
          "execution_count": 19
        }
      ],
      "source": [
        "r\"\\n\" # Raw string allow us to match newlines without the extra \\"
      ]
    },
    {
      "cell_type": "markdown",
      "metadata": {
        "id": "LcwQOv5i11kP"
      },
      "source": [
        "## Important `match object` methods\n",
        "\n",
        "<table class=\"docutils\" border=\"1\">\n",
        "<colgroup>\n",
        "<col width=\"29%\">\n",
        "<col width=\"71%\">\n",
        "</colgroup>\n",
        "<thead valign=\"bottom\">\n",
        "<tr class=\"row-odd\"><th class=\"head\">Method/Attribute</th>\n",
        "<th class=\"head\">Purpose</th>\n",
        "</tr>\n",
        "</thead>\n",
        "<tbody valign=\"top\">\n",
        "<tr class=\"row-even\"><td><code class=\"docutils literal notranslate\"><span class=\"pre\">group()</span></code></td>\n",
        "<td>Return the string matched by the RE</td>\n",
        "</tr>\n",
        "<tr class=\"row-odd\"><td><code class=\"docutils literal notranslate\"><span class=\"pre\">start()</span></code></td>\n",
        "<td>Return the starting position of the match</td>\n",
        "</tr>\n",
        "<tr class=\"row-even\"><td><code class=\"docutils literal notranslate\"><span class=\"pre\">end()</span></code></td>\n",
        "<td>Return the ending position of the match</td>\n",
        "</tr>\n",
        "<tr class=\"row-odd\"><td><code class=\"docutils literal notranslate\"><span class=\"pre\">span()</span></code></td>\n",
        "<td>Return a tuple containing the (start, end)\n",
        "positions  of the match</td>\n",
        "</tr>\n",
        "</tbody>\n",
        "</table>"
      ]
    },
    {
      "cell_type": "code",
      "execution_count": 20,
      "metadata": {
        "colab": {
          "base_uri": "https://localhost:8080/",
          "height": 36
        },
        "id": "Pe-ePYls11kQ",
        "outputId": "ab731480-a863-4c17-be1e-c3f687240f6a"
      },
      "outputs": [
        {
          "output_type": "execute_result",
          "data": {
            "text/plain": [
              "'ab'"
            ],
            "application/vnd.google.colaboratory.intrinsic+json": {
              "type": "string"
            }
          },
          "metadata": {},
          "execution_count": 20
        }
      ],
      "source": [
        "m1.group()"
      ]
    },
    {
      "cell_type": "code",
      "execution_count": 21,
      "metadata": {
        "colab": {
          "base_uri": "https://localhost:8080/"
        },
        "id": "TVkh4yRj11kQ",
        "outputId": "1a40c3da-3b53-4da7-fe88-1d12acbef8fd"
      },
      "outputs": [
        {
          "output_type": "execute_result",
          "data": {
            "text/plain": [
              "(0, 2)"
            ]
          },
          "metadata": {},
          "execution_count": 21
        }
      ],
      "source": [
        "m1.start(), m1.end()"
      ]
    },
    {
      "cell_type": "code",
      "execution_count": 22,
      "metadata": {
        "colab": {
          "base_uri": "https://localhost:8080/"
        },
        "id": "vTr5A17A11kQ",
        "outputId": "41e96501-d47a-43a7-d37d-ae4ef6245eb9"
      },
      "outputs": [
        {
          "output_type": "execute_result",
          "data": {
            "text/plain": [
              "(0, 2)"
            ]
          },
          "metadata": {},
          "execution_count": 22
        }
      ],
      "source": [
        "m1.span()"
      ]
    },
    {
      "cell_type": "markdown",
      "metadata": {
        "id": "TKqaOQo711kR"
      },
      "source": [
        "## Be sure to check for `None`"
      ]
    },
    {
      "cell_type": "code",
      "execution_count": 23,
      "metadata": {
        "id": "R0guKRYh11kR"
      },
      "outputs": [],
      "source": [
        "m2 # example that DIDN'T match "
      ]
    },
    {
      "cell_type": "code",
      "execution_count": 24,
      "metadata": {
        "colab": {
          "base_uri": "https://localhost:8080/"
        },
        "id": "mt2q04Wx11kR",
        "outputId": "3d6b2a25-f537-4146-96d3-1688e557f003"
      },
      "outputs": [
        {
          "output_type": "execute_result",
          "data": {
            "text/plain": [
              "True"
            ]
          },
          "metadata": {},
          "execution_count": 24
        }
      ],
      "source": [
        "m2 is None # non-matches return None"
      ]
    },
    {
      "cell_type": "code",
      "execution_count": 25,
      "metadata": {
        "colab": {
          "base_uri": "https://localhost:8080/",
          "height": 172
        },
        "id": "cN2pPBbf11kR",
        "outputId": "ad83855c-fd73-4df0-f507-5797091d6ebd"
      },
      "outputs": [
        {
          "output_type": "error",
          "ename": "AttributeError",
          "evalue": "ignored",
          "traceback": [
            "\u001b[0;31m---------------------------------------------------------------------------\u001b[0m",
            "\u001b[0;31mAttributeError\u001b[0m                            Traceback (most recent call last)",
            "\u001b[0;32m<ipython-input-25-0951bace4a25>\u001b[0m in \u001b[0;36m<module>\u001b[0;34m\u001b[0m\n\u001b[0;32m----> 1\u001b[0;31m \u001b[0mm2\u001b[0m\u001b[0;34m.\u001b[0m\u001b[0mgroup\u001b[0m\u001b[0;34m(\u001b[0m\u001b[0;34m)\u001b[0m \u001b[0;31m# Oh you silly 'Nonetype' errors\u001b[0m\u001b[0;34m\u001b[0m\u001b[0;34m\u001b[0m\u001b[0m\n\u001b[0m",
            "\u001b[0;31mAttributeError\u001b[0m: 'NoneType' object has no attribute 'group'"
          ]
        }
      ],
      "source": [
        "m2.group() # Oh you silly 'Nonetype' errors"
      ]
    },
    {
      "cell_type": "markdown",
      "metadata": {
        "id": "61sUi-A711kR"
      },
      "source": [
        "## Solution 1\n",
        "\n",
        "Always check for `None`"
      ]
    },
    {
      "cell_type": "code",
      "execution_count": 26,
      "metadata": {
        "id": "ULkgwl9O11kR"
      },
      "outputs": [],
      "source": [
        "m2.group() if m2 else None"
      ]
    },
    {
      "cell_type": "markdown",
      "metadata": {
        "id": "Q_-iR6ES11kS"
      },
      "source": [
        "## Solution 2\n",
        "\n",
        "Learn about the [`Maybe` monad](https://en.wikipedia.org/wiki/Monad_(functional_programming)#An_example:_Maybe). (We will tackle this in a later chapter.)"
      ]
    },
    {
      "cell_type": "markdown",
      "metadata": {
        "id": "jmI88G4Z11kS"
      },
      "source": [
        "## Python regex methods\n",
        "\n",
        "<table class=\"docutils\" border=\"1\">\n",
        "<colgroup>\n",
        "<col width=\"28%\">\n",
        "<col width=\"72%\">\n",
        "</colgroup>\n",
        "<thead valign=\"bottom\">\n",
        "<tr class=\"row-odd\"><th class=\"head\">Method/Attribute</th>\n",
        "<th class=\"head\">Purpose</th>\n",
        "</tr>\n",
        "</thead>\n",
        "<tbody valign=\"top\">\n",
        "<tr class=\"row-even\"><td><code class=\"docutils literal notranslate\"><span class=\"pre\">match()</span></code></td>\n",
        "<td>Determine if the RE matches at the beginning\n",
        "of the string.</td>\n",
        "</tr>\n",
        "<tr class=\"row-odd\"><td><code class=\"docutils literal notranslate\"><span class=\"pre\">search()</span></code></td>\n",
        "<td>Scan through a string, looking for any\n",
        "location where this RE matches.</td>\n",
        "</tr>\n",
        "<tr class=\"row-even\"><td><code class=\"docutils literal notranslate\"><span class=\"pre\">findall()</span></code></td>\n",
        "<td>Find all substrings where the RE matches, and\n",
        "returns them as a list.</td>\n",
        "</tr>\n",
        "<tr class=\"row-odd\"><td><code class=\"docutils literal notranslate\"><span class=\"pre\">finditer()</span></code></td>\n",
        "<td>Find all substrings where the RE matches, and\n",
        "returns them as an <a class=\"reference internal\" href=\"../glossary.html#term-iterator\"><span class=\"xref std std-term\">iterator</span></a>.</td>\n",
        "</tr>\n",
        "</tbody>\n",
        "</table>\n",
        "\n",
        "**Source:** [Python documentation](https://docs.python.org/3/howto/regex.html)"
      ]
    },
    {
      "cell_type": "markdown",
      "metadata": {
        "id": "p4cPKG0A11kS"
      },
      "source": [
        "## A better `str.replace`\n",
        "\n",
        "* Often chain many `replace` calls\n",
        "* Example `s.replace('(', '').replace(')','').replace(':', '')`\n",
        "* We can use `re.sub` to simplify."
      ]
    },
    {
      "cell_type": "code",
      "execution_count": 27,
      "metadata": {
        "colab": {
          "base_uri": "https://localhost:8080/",
          "height": 36
        },
        "id": "Vq59SH0A11kT",
        "outputId": "8ab43a19-be1f-4c0c-9e2d-45cb673978fd"
      },
      "outputs": [
        {
          "output_type": "execute_result",
          "data": {
            "text/plain": [
              "'The string has some things in it'"
            ],
            "application/vnd.google.colaboratory.intrinsic+json": {
              "type": "string"
            }
          },
          "metadata": {},
          "execution_count": 27
        }
      ],
      "source": [
        "s = \"The string (has) some: things in (it)\"\n",
        "s.replace('(', '').replace(')','').replace(':', '')"
      ]
    },
    {
      "cell_type": "code",
      "execution_count": 28,
      "metadata": {
        "colab": {
          "base_uri": "https://localhost:8080/",
          "height": 36
        },
        "id": "ToFvtZZX11kT",
        "outputId": "378d1efd-c24d-482c-c5cc-87f1c0b40bfa"
      },
      "outputs": [
        {
          "output_type": "execute_result",
          "data": {
            "text/plain": [
              "'The string has some things in it'"
            ],
            "application/vnd.google.colaboratory.intrinsic+json": {
              "type": "string"
            }
          },
          "metadata": {},
          "execution_count": 28
        }
      ],
      "source": [
        "re.sub(r\"[():]\", '', s)"
      ]
    },
    {
      "cell_type": "markdown",
      "metadata": {
        "id": "AEwMYN5M11kU"
      },
      "source": [
        "## Substitutions with a compiled RegEx\n",
        "\n",
        "1. Compile a pattern\n",
        "2. Use `pat.sub(new_substr, s)`"
      ]
    },
    {
      "cell_type": "code",
      "execution_count": 29,
      "metadata": {
        "colab": {
          "base_uri": "https://localhost:8080/",
          "height": 36
        },
        "id": "es9ud5id11kU",
        "outputId": "01da513b-1e98-4ee2-9027-5c014ec32f0f"
      },
      "outputs": [
        {
          "output_type": "execute_result",
          "data": {
            "text/plain": [
              "'The string has some things in it'"
            ],
            "application/vnd.google.colaboratory.intrinsic+json": {
              "type": "string"
            }
          },
          "metadata": {},
          "execution_count": 29
        }
      ],
      "source": [
        "paren_or_colon = re.compile(r\"[():]\")\n",
        "paren_or_colon.sub('', s)"
      ]
    },
    {
      "cell_type": "markdown",
      "metadata": {
        "id": "yd35HLjB11kU"
      },
      "source": [
        "## <font color=\"red\"> Exercise 4 </font>\n",
        "\n",
        "**Task:** Write and test a function that uses `re.sub` to remove all punctuation from a string.  **Hint:** Use the `punctuation` variable from the `string` module."
      ]
    },
    {
      "cell_type": "code",
      "execution_count": 30,
      "metadata": {
        "id": "cAm5alVU11kV"
      },
      "outputs": [],
      "source": [
        "import string\n",
        "\n",
        "def strip_punctuation(st):\n",
        "  \"\"\"Removes punctuation from a string.\n",
        "\n",
        "  Args:\n",
        "    st: A string\n",
        "\n",
        "  Returns:\n",
        "    String without punctuation\n",
        "  \"\"\"\n",
        "  # r for raw, f for format so re.escape can run\n",
        "  patt = re.compile(rf\"[{re.escape(string.punctuation)}]\")\n",
        "  return re.sub(patt, \"\", st)"
      ]
    },
    {
      "cell_type": "code",
      "source": [
        "strip_punctuation(\"';';?%^(*&*^'asd)(fs';'\")"
      ],
      "metadata": {
        "id": "Qc6oz0jbTAdV",
        "outputId": "f9ffeacc-ddc7-408f-f470-10227860640a",
        "colab": {
          "base_uri": "https://localhost:8080/",
          "height": 36
        }
      },
      "execution_count": 31,
      "outputs": [
        {
          "output_type": "execute_result",
          "data": {
            "text/plain": [
              "'asdfs'"
            ],
            "application/vnd.google.colaboratory.intrinsic+json": {
              "type": "string"
            }
          },
          "metadata": {},
          "execution_count": 31
        }
      ]
    },
    {
      "cell_type": "code",
      "source": [
        "def test_strip_punctuation():\n",
        "  assert strip_punctuation(\"This???@@##$ is#$% a%$^ test$% ^&string\") == \"This is a test string\"\n",
        "  assert strip_punctuation(\"!@#$!@^*()@$&::\") == \"\"\n",
        "  assert strip_punctuation(\"no punctuation\") == \"no punctuation\"\n",
        "\n",
        "test_strip_punctuation()"
      ],
      "metadata": {
        "id": "3XtD-770Uz7X"
      },
      "execution_count": 32,
      "outputs": []
    },
    {
      "cell_type": "markdown",
      "metadata": {
        "id": "dmgyHILs11kV"
      },
      "source": [
        "## Next Up\n",
        "\n",
        "Now you should read through the rest of [RegExOne](https://regexone.com/) and put your work in [Lab 3](./lab_3_regexone.ipynb)."
      ]
    },
    {
      "cell_type": "code",
      "source": [
        "# Lesson 1 is done as an exercise above"
      ],
      "metadata": {
        "id": "ui5oTWqxX0_L"
      },
      "execution_count": 33,
      "outputs": []
    },
    {
      "cell_type": "code",
      "source": [
        "# Lesson 1.5\n",
        "pattern = r\"\\d+\" # contains at least 1 digit\n",
        "my_regex = re.compile(pattern)\n",
        "# use search to look throughout the string instead of matching from the start\n",
        "assert my_regex.search('abc123xyz')\n",
        "assert my_regex.search('define \"123\"')\n",
        "assert my_regex.search('var g = 123')"
      ],
      "metadata": {
        "id": "Dng1BEGu_Auv"
      },
      "execution_count": 34,
      "outputs": []
    },
    {
      "cell_type": "code",
      "source": [
        "# Lesson 2\n",
        "pattern = r\"\\.\" # contains a period\n",
        "my_regex = re.compile(pattern)\n",
        "assert my_regex.search('cat.')\n",
        "assert my_regex.search('896.')\n",
        "assert my_regex.search('?=+.')\n",
        "assert not my_regex.search('abc1')"
      ],
      "metadata": {
        "id": "NKQTjIas_Ax7"
      },
      "execution_count": 35,
      "outputs": []
    },
    {
      "cell_type": "code",
      "source": [
        "# Lesson 3\n",
        "pattern = r\"[cmf]an\"\n",
        "my_regex = re.compile(pattern)\n",
        "assert my_regex.search('can')\n",
        "assert my_regex.search('man')\n",
        "assert my_regex.search('fan')\n",
        "assert not my_regex.search('dan')\n",
        "assert not my_regex.search('ran')\n",
        "assert not my_regex.search('pan')"
      ],
      "metadata": {
        "id": "8XXnSMBr_A1D"
      },
      "execution_count": 36,
      "outputs": []
    },
    {
      "cell_type": "code",
      "source": [
        "# Lesson 4\n",
        "pattern = r\"[^b]og\"\n",
        "my_regex = re.compile(pattern)\n",
        "assert my_regex.search('hog')\n",
        "assert my_regex.search('dog')\n",
        "assert not my_regex.search('bog')"
      ],
      "metadata": {
        "id": "VIHbbTgt_A32"
      },
      "execution_count": 37,
      "outputs": []
    },
    {
      "cell_type": "code",
      "source": [
        "my_regex.search(\"basdfog\") # what happens if the b isn't directly before it?"
      ],
      "metadata": {
        "colab": {
          "base_uri": "https://localhost:8080/"
        },
        "id": "YZ5NMou1_BAW",
        "outputId": "43bb8a82-e997-4774-a885-28ae7ba3f0da"
      },
      "execution_count": 38,
      "outputs": [
        {
          "output_type": "execute_result",
          "data": {
            "text/plain": [
              "<re.Match object; span=(4, 7), match='fog'>"
            ]
          },
          "metadata": {},
          "execution_count": 38
        }
      ]
    },
    {
      "cell_type": "code",
      "metadata": {
        "id": "HlDhH6bxw1AB"
      },
      "source": [
        "# Lesson 5\n",
        "pattern = r\"[A-C][n-p][a-c]\"\n",
        "my_regex = re.compile(pattern)\n",
        "assert my_regex.search('Ana')\n",
        "assert my_regex.search('Bob')\n",
        "assert my_regex.search('Cpc')\n",
        "assert not my_regex.search('aax')\n",
        "assert not my_regex.search('bby')\n",
        "assert not my_regex.search('ccz')"
      ],
      "execution_count": 39,
      "outputs": []
    },
    {
      "cell_type": "code",
      "metadata": {
        "id": "bCJRqyvaw1NJ"
      },
      "source": [
        "# Lesson 6\n",
        "pattern = r\"waz{3,}up\" # 3 or more z's\n",
        "my_regex = re.compile(pattern)\n",
        "assert my_regex.search('wazzzzzup')\n",
        "assert my_regex.search('wazzzup')\n",
        "assert not my_regex.search('wazup')"
      ],
      "execution_count": 40,
      "outputs": []
    },
    {
      "cell_type": "code",
      "metadata": {
        "id": "4LQ-Idizw1bG"
      },
      "source": [
        "# Lesson 7\n",
        "pattern = r\"a{2,}b*c+\"\n",
        "my_regex = re.compile(pattern)\n",
        "assert my_regex.search('aaaabcc')\n",
        "assert my_regex.search('aabbbbc')\n",
        "assert my_regex.search('aacc')\n",
        "assert not my_regex.search('a')"
      ],
      "execution_count": 41,
      "outputs": []
    },
    {
      "cell_type": "code",
      "metadata": {
        "id": "99gXekq5w1oE"
      },
      "source": [
        "# Lesson 8\n",
        "pattern = r\"\\d+ files? found\\?\"\n",
        "my_regex = re.compile(pattern)\n",
        "assert my_regex.search('1 file found?')\n",
        "assert my_regex.search('2 files found?')\n",
        "assert my_regex.search('24 files found?')\n",
        "assert not my_regex.search('No files found.')"
      ],
      "execution_count": 42,
      "outputs": []
    },
    {
      "cell_type": "code",
      "metadata": {
        "id": "vhQpQl35w11h"
      },
      "source": [
        "# Lesson 9\n",
        "pattern = r\"\\d\\.\\s+abc\"\n",
        "my_regex = re.compile(pattern)\n",
        "assert my_regex.search('1. abc')\n",
        "assert my_regex.search('2.  abc')\n",
        "assert my_regex.search('3.   abc')\n",
        "assert not my_regex.search('4.abc')"
      ],
      "execution_count": 43,
      "outputs": []
    },
    {
      "cell_type": "code",
      "metadata": {
        "id": "1fR6XWFU0tUc"
      },
      "source": [
        "# Lesson 10\n",
        "pattern = r\"^Mission: successful$\"\n",
        "my_regex = re.compile(pattern)\n",
        "assert my_regex.search('Mission: successful')\n",
        "assert not my_regex.search('Last Mission: unsuccessful')\n",
        "assert not my_regex.search('Next Mission: successful upon capture of target')"
      ],
      "execution_count": 44,
      "outputs": []
    },
    {
      "cell_type": "code",
      "metadata": {
        "id": "hotsfQLW0tmr"
      },
      "source": [
        "# Lesson 11\n",
        "pattern = r\"^(file_.+)\\.pdf$\"\n",
        "my_regex = re.compile(pattern)\n",
        "assert my_regex.search('file_record_transcript.pdf').group(1) == \"file_record_transcript\"\n",
        "assert my_regex.search('file_07241999.pdf').group(1) == \"file_07241999\"\n",
        "assert not my_regex.search('testfile_fake.pdf.tmp')"
      ],
      "execution_count": 45,
      "outputs": []
    },
    {
      "cell_type": "code",
      "metadata": {
        "id": "wrB4DPXc0tvc"
      },
      "source": [
        "# Lesson 12\n",
        "pattern = r\"^(\\w{3}\\s+(\\d{4}))$\"\n",
        "my_regex = re.compile(pattern)\n",
        "assert my_regex.search('Jan 1987').group(1) == \"Jan 1987\"\n",
        "assert my_regex.search('Jan 1987').group(2) == \"1987\"\n",
        "assert my_regex.search('May 1969').group(1) == \"May 1969\"\n",
        "assert my_regex.search('May 1969').group(2) == \"1969\"\n",
        "assert my_regex.search('Aug 2011').group(1) == \"Aug 2011\"\n",
        "assert my_regex.search('Aug 2011').group(2) == \"2011\""
      ],
      "execution_count": 46,
      "outputs": []
    },
    {
      "cell_type": "code",
      "metadata": {
        "id": "IJNmFwLG0t4r"
      },
      "source": [
        "# Lesson 13\n",
        "pattern = r\"(\\d+)x(\\d+)\"\n",
        "my_regex = re.compile(pattern)\n",
        "assert my_regex.search('1280x720').group(1) == \"1280\"\n",
        "assert my_regex.search('1280x720').group(2) == \"720\"\n",
        "assert my_regex.search('1920x1600').group(1) == \"1920\"\n",
        "assert my_regex.search('1920x1600').group(2) == \"1600\"\n",
        "assert my_regex.search('1024x786').group(1) == \"1024\"\n",
        "assert my_regex.search('1024x786').group(2) == \"786\""
      ],
      "execution_count": 47,
      "outputs": []
    },
    {
      "cell_type": "code",
      "metadata": {
        "id": "4ElasNt50uBs"
      },
      "source": [
        "# Lesson 14\n",
        "pattern = r\"I love (cats|dogs)\"\n",
        "my_regex = re.compile(pattern)\n",
        "assert my_regex.search('I love cats')\n",
        "assert my_regex.search('I love dogs')\n",
        "assert not my_regex.search('I love logs')\n",
        "assert not my_regex.search('I love cogs')"
      ],
      "execution_count": 48,
      "outputs": []
    },
    {
      "cell_type": "code",
      "metadata": {
        "id": "KuJu8e3Q0uL9"
      },
      "source": [
        "# Lesson 15\n",
        "pattern = r\"[\\w\\s\\b\\.&$#*@!%]*\"\n",
        "my_regex = re.compile(pattern)\n",
        "assert my_regex.search('The quick brown fox jumps over the lazy dog.')\n",
        "assert my_regex.search('There were 614 instances of students getting 90.0% or above.')\n",
        "assert my_regex.search('The FCC had to censor the networkfor saying &$#*@!')"
      ],
      "execution_count": 49,
      "outputs": []
    },
    {
      "cell_type": "code",
      "metadata": {
        "id": "3_OEt4aP0uff"
      },
      "source": [
        "# Exercise 1\n",
        "pattern = r\"^-?[\\d\\.?,e]*$\"\n",
        "my_regex = re.compile(pattern)\n",
        "assert my_regex.search('3.14529')\n",
        "assert my_regex.search('-255.34')\n",
        "assert my_regex.search('128')\n",
        "assert my_regex.search('1.9e10')\n",
        "assert my_regex.search('123,340.00')\n",
        "assert not my_regex.search('720p')"
      ],
      "execution_count": 50,
      "outputs": []
    },
    {
      "cell_type": "code",
      "metadata": {
        "id": "e18gfH8qmwPd"
      },
      "source": [
        "# Exercise 2\n",
        "pattern = r\"^(1 )?\\(?(\\d{3})\\)?\\s?[\\d -]*$\"\n",
        "my_regex = re.compile(pattern)\n",
        "assert '415' in my_regex.findall('415-555-1234')[0]\n",
        "assert '650' in my_regex.findall('650-555-2345')[0]\n",
        "assert '416' in my_regex.findall('(416)555-3456')[0]\n",
        "assert '202' in my_regex.findall('202 555 3456')[0]\n",
        "assert '403' in my_regex.findall('4035555678')[0]\n",
        "assert '416' in my_regex.findall('1 416 555 9292')[0]"
      ],
      "execution_count": 51,
      "outputs": []
    },
    {
      "cell_type": "code",
      "metadata": {
        "id": "GJLhTEPKqZeR"
      },
      "source": [
        "# Exercise 3\n",
        "pattern = r\"^(\\w+(\\.?\\w+))\"\n",
        "my_regex = re.compile(pattern)\n",
        "assert 'tom' in my_regex.findall('tom@hogwarts.com')[0]\n",
        "assert 'tom.riddle' in my_regex.findall('tom.riddle@hogwarts.com')[0]\n",
        "assert 'tom.riddle' in my_regex.findall('tom.riddle+regexone@hogwarts.com')[0]\n",
        "assert 'tom' in my_regex.findall('tom@hogwarts.eu.com')[0]\n",
        "assert 'potter' in my_regex.findall('potter@hogwarts.com')[0]\n",
        "assert 'harry' in my_regex.findall('harry@hogwarts.com')[0]\n",
        "assert 'hermione' in my_regex.findall('hermione+regexone@hogwarts.com')[0]"
      ],
      "execution_count": 52,
      "outputs": []
    },
    {
      "cell_type": "code",
      "metadata": {
        "id": "YvxBOmLIr9Xk"
      },
      "source": [
        "# Exercise 4\n",
        "pattern = r\"^<(\\w+)\"\n",
        "my_regex = re.compile(pattern)\n",
        "assert 'a' in my_regex.findall('<a>This is a link</a>')[0]\n",
        "assert 'a' in my_regex.findall(\"<a href='https://regexone.com'>Link</a>\")[0]\n",
        "assert 'div' in my_regex.findall(\"<div class='test_style'>Test</div>\")[0]\n",
        "assert 'div' in my_regex.findall('<div>Hello <span>world</span></div>')[0]"
      ],
      "execution_count": 53,
      "outputs": []
    },
    {
      "cell_type": "code",
      "metadata": {
        "id": "lEbKqyDs4xn0"
      },
      "source": [
        "# Exercise 5\n",
        "pattern = r\"(\\w+).(jpg|png|gif)$\"\n",
        "my_regex = re.compile(pattern)\n",
        "assert not my_regex.findall('.bash_profile')\n",
        "assert not my_regex.findall('workspace.doc')\n",
        "assert 'img0912' in my_regex.findall('img0912.jpg')[0]\n",
        "assert 'jpg' in my_regex.findall(\"img0912.jpg\")[0]\n",
        "assert 'updated_img0912' in my_regex.findall(\"updated_img0912.png\")[0]\n",
        "assert 'png' in my_regex.findall('updated_img0912.png')[0]\n",
        "assert not my_regex.findall('documentation.html')\n",
        "assert 'favicon' in my_regex.findall('favicon.gif')[0]\n",
        "assert 'gif' in my_regex.findall('favicon.gif')[0]\n",
        "assert not my_regex.findall('img0912.jpg.tmp')\n",
        "assert not my_regex.findall('access.lock')"
      ],
      "execution_count": 54,
      "outputs": []
    },
    {
      "cell_type": "code",
      "metadata": {
        "id": "CW8tNQJFr-Gj"
      },
      "source": [
        "# Exercise 6\n",
        "pattern = r\"^\\s*(.*)\\s*$\"\n",
        "my_regex = re.compile(pattern)\n",
        "assert 'The quick brown fox...' in my_regex.findall('\t\t\t\tThe quick brown fox...')[0]\n",
        "assert 'jumps over the lazy dog.' in my_regex.findall(\" jumps over the lazy dog.\")[0]"
      ],
      "execution_count": 55,
      "outputs": []
    },
    {
      "cell_type": "code",
      "metadata": {
        "id": "w4c2jMBIr-jt"
      },
      "source": [
        "# Exercise 7\n",
        "pattern = r\"(\\w+)\\(([\\w\\.]+):(\\d+)\"\n",
        "my_regex = re.compile(pattern)\n",
        "assert not my_regex.findall('\tW/dalvikvm( 1553): threadid=1: uncaught exception')\n",
        "assert not my_regex.findall('\tE/( 1553): FATAL EXCEPTION: main')\n",
        "assert not my_regex.findall('E/( 1553): java.lang.StringIndexOutOfBoundsException')\n",
        "assert all (x in my_regex.findall('E/( 1553):   at widget.List.makeView(ListView.java:1727)')[0] for x in ('makeView', 'ListView.java', '1727'))\n",
        "assert all (x in my_regex.findall('E/( 1553):   at widget.List.fillDown(ListView.java:652)')[0] for x in ('fillDown', 'ListView.java', '652'))\n",
        "assert all (x in my_regex.findall('E/( 1553):   at widget.List.fillFrom(ListView.java:709)')[0] for x in ('fillFrom', 'ListView.java', '709'))"
      ],
      "execution_count": 56,
      "outputs": []
    },
    {
      "cell_type": "code",
      "metadata": {
        "id": "x0fO_OTR9uU1"
      },
      "source": [
        "# Exercise 8\n",
        "pattern = r\"(\\w+)://([\\w+\\.-]*)(:(\\d+))?\"\n",
        "my_regex = re.compile(pattern)\n",
        "assert all (x in my_regex.findall('ftp://file_server.com:21/top_secret/life_changing_plans.pdf')[0] for x in ('ftp', 'file_server.com', '21'))\n",
        "assert all (x in my_regex.findall('https://regexone.com/lesson/introduction#section')[0] for x in ('https', 'regexone.com'))\n",
        "assert all (x in my_regex.findall('\tfile://localhost:4040/zip_file')[0] for x in ('file', 'localhost', '4040'))\n",
        "assert all (x in my_regex.findall('https://s3cur3-server.com:9999/')[0] for x in ('https', 's3cur3-server.com', '9999'))\n",
        "assert all (x in my_regex.findall('market://search/angry%20birds')[0] for x in ('market', 'search'))"
      ],
      "execution_count": 57,
      "outputs": []
    }
  ],
  "metadata": {
    "celltoolbar": "Slideshow",
    "kernelspec": {
      "display_name": "Python 3",
      "language": "python",
      "name": "python3"
    },
    "language_info": {
      "codemirror_mode": {
        "name": "ipython",
        "version": 3
      },
      "file_extension": ".py",
      "mimetype": "text/x-python",
      "name": "python",
      "nbconvert_exporter": "python",
      "pygments_lexer": "ipython3",
      "version": "3.7.2"
    },
    "varInspector": {
      "cols": {
        "lenName": 16,
        "lenType": 16,
        "lenVar": 40
      },
      "kernels_config": {
        "python": {
          "delete_cmd_postfix": "",
          "delete_cmd_prefix": "del ",
          "library": "var_list.py",
          "varRefreshCmd": "print(var_dic_list())"
        },
        "r": {
          "delete_cmd_postfix": ") ",
          "delete_cmd_prefix": "rm(",
          "library": "var_list.r",
          "varRefreshCmd": "cat(var_dic_list()) "
        }
      },
      "types_to_exclude": [
        "module",
        "function",
        "builtin_function_or_method",
        "instance",
        "_Feature"
      ],
      "window_display": false
    },
    "colab": {
      "provenance": [],
      "include_colab_link": true
    }
  },
  "nbformat": 4,
  "nbformat_minor": 0
}